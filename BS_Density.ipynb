{
 "cells": [
  {
   "cell_type": "code",
   "execution_count": 1,
   "metadata": {},
   "outputs": [],
   "source": [
    "from netCDF4 import Dataset\n",
    "import numpy as np\n",
    "import math as m\n",
    "from haversine import haversine as hvs \n",
    "from tqdm.notebook import tqdm\n"
   ]
  },
  {
   "cell_type": "markdown",
   "metadata": {},
   "source": [
    "### Function and Kernels"
   ]
  },
  {
   "cell_type": "markdown",
   "metadata": {},
   "source": [
    "Code : Victor Onink (adapted)\n"
   ]
  },
  {
   "cell_type": "code",
   "execution_count": 2,
   "metadata": {},
   "outputs": [],
   "source": [
    "\n",
    "def AreaCalc(sizeLon, sizeLat):\n",
    "    \"\"\"\n",
    "    Function that calculates the surface area of grid cells on the Black Sea.\n",
    "    \n",
    "    param BinsLon: the grid cell size in longitudinal direction\n",
    "    param BinsLat: the grid cell size in latitudinal direction\n",
    "    returns: matrix with the surface area (in km^2) of each grid cell\n",
    "    \"\"\"\n",
    "    #Black Sea area :calculate the approx size in km in zonal/merdional direction of the BS polygon\n",
    "    lon11 = (48,27)  #max lat, min lon\n",
    "    lon12 = (48,42)\n",
    "    d_lonA = hvs(lon11,lon12)\n",
    "\n",
    "    lon21 = (41,27)\n",
    "    lon22 = (41,42)\n",
    "    d_lonB = hvs(lon21,lon22)\n",
    "\n",
    "    d_lon = np.mean([d_lonA,d_lonB])\n",
    "    d_lon\n",
    "    \n",
    "    lat11 = (41,27)\n",
    "    lat21 = (48,27)\n",
    "    d_latA = hvs(lat11,lat21)\n",
    "\n",
    "    lat12 = (41,42)\n",
    "    lat22 = (48,42)\n",
    "    d_latB = hvs(lat12,lat22)\n",
    "\n",
    "    d_lat = np.mean([d_latA,d_latB])\n",
    "    d_lat\n",
    "    \n",
    "    \n",
    "    #Area\n",
    "    radians = np.pi/180. \n",
    "    lon_bins = np.linspace(26.5,42, sizeLon+1) # the bins in longitudinal direction\n",
    "    lat_bins = np.linspace(41,48, sizeLat+1) # the bins in latitudinal direction\n",
    "    Area = np.array([[radians*(lon_bins[i+1]-lon_bins[i])*\n",
    "                      (np.sin(radians*lat_bins[j+1]) - np.sin(radians*lat_bins[j])) \n",
    "                      for j in range(len(lat_bins)-1)]\n",
    "                      for i in range(len(lon_bins)-1)])\n",
    "    \n",
    "    Area = d_lon*d_lat*Area     #km^2\n",
    "    return Area\n",
    "\n",
    "def HistogramFunction(binslon,binslat,londata,latdata):\n",
    "    londata,latdata=londata.reshape(np.size(londata)),latdata.reshape(np.size(latdata))\n",
    "    density=np.zeros((len(binsLon),len(binsLat)))\n",
    "    \n",
    "    for i in range(np.array(londata).shape[0]):\n",
    "        density[np.argmin(np.abs(londata[i]-binsLon)),np.argmin(np.abs(latdata[i]-binsLat))]+=1\n",
    "        \n",
    "    #Normalize it by area\n",
    "    area=AreaCalc(len(binsLat),len(binsLon)).T\n",
    "    density/=area\n",
    "    density[density==0]=np.nan\n",
    "    return density\n",
    "\n",
    "def load_data(ddir,f):\n",
    "    dataset=Dataset(ddir+f)\n",
    "    lat=dataset.variables['lat'][:]\n",
    "    lon=dataset.variables['lon'][:]\n",
    "    time=dataset.variables['time'][:]\n",
    "    beached=dataset.variables['beached'][:]\n",
    "    lon[lon>180]-=360\n",
    "    lon[lon<-180]+=360\n",
    "    \n",
    "    return lon, lat, time, beached"
   ]
  },
  {
   "cell_type": "markdown",
   "metadata": {},
   "source": [
    "### Load Data"
   ]
  },
  {
   "cell_type": "code",
   "execution_count": 4,
   "metadata": {},
   "outputs": [
    {
     "name": "stderr",
     "output_type": "stream",
     "text": [
      "C:\\Anaconda3\\envs\\py3_parcels\\lib\\site-packages\\ipykernel_launcher.py:64: RuntimeWarning: invalid value encountered in greater\n",
      "C:\\Anaconda3\\envs\\py3_parcels\\lib\\site-packages\\ipykernel_launcher.py:65: RuntimeWarning: invalid value encountered in less\n"
     ]
    }
   ],
   "source": [
    "\n",
    "ddir = r'C:\\Users\\Administrateur\\Documents\\CP_18-20\\Thesis\\Parcels'\n",
    "\n",
    "files =[\n",
    "        '\\Rivers\\RUN_SAKARYA8_365d.nc',\n",
    "        '\\Rivers\\RUN_KIZILIRMAK8_365d.nc',\n",
    "        '\\Rivers\\RUN_KODORI8_365d.nc',\n",
    "        '\\Rivers\\RUN_YESILIMARK8_365d.nc',\n",
    "        '\\Rivers\\RUN_BZYB8_365d.nc', \n",
    "        '\\Rivers\\RUN_DON8_365d.nc'\n",
    "    \n",
    "        ]\n",
    "\n",
    "lon,lat,time,beached= [[] for i in range(4)]\n",
    "\n",
    "for f in files :\n",
    "    lo,la,t,b= load_data(ddir,f)\n",
    "    lon.append(lo)\n",
    "    lat.append(la)\n",
    "    time.append(t)\n",
    "    beached.append(b)"
   ]
  },
  {
   "cell_type": "markdown",
   "metadata": {},
   "source": [
    "### Calculate Density"
   ]
  },
  {
   "cell_type": "code",
   "execution_count": 5,
   "metadata": {},
   "outputs": [
    {
     "data": {
      "application/vnd.jupyter.widget-view+json": {
       "model_id": "e78aabe03d014635b800bcfeac7a18ba",
       "version_major": 2,
       "version_minor": 0
      },
      "text/plain": [
       "HBox(children=(FloatProgress(value=0.0, max=731.0), HTML(value='')))"
      ]
     },
     "metadata": {},
     "output_type": "display_data"
    },
    {
     "name": "stdout",
     "output_type": "stream",
     "text": [
      "\n"
     ]
    }
   ],
   "source": [
    "# Black Sea coordinates\n",
    "minlon = 27\n",
    "maxlon = 42\n",
    "minlat = 41\n",
    "maxlat = 48\n",
    "\n",
    "\n",
    "# All data: mean over 1 year\n",
    "lonLast=lon[0][:,:] \n",
    "latLast=lat[0][:,:]\n",
    "Time=time[0][:,:]\n",
    "\n",
    "binsLon=np.arange(minlon,maxlon,0.1)\n",
    "binsLat=np.arange(minlat,maxlat,0.1)\n",
    "density=np.zeros((lonLast.shape[1],len(binsLon),len(binsLat)))\n",
    "\n",
    "for i in tqdm(range(Time.shape[1])):\n",
    "    density[i,:,:]=HistogramFunction(binsLon,binsLat,lonLast[:,i],latLast[:,i])\n",
    "\n",
    "saveFiles=str(ddir)+r'\\Rivers\\Density_8\\Sakarya8'\n",
    "density.dump(saveFiles)\n",
    "Time.dump(saveFiles+'_Time')"
   ]
  },
  {
   "cell_type": "code",
   "execution_count": null,
   "metadata": {},
   "outputs": [],
   "source": []
  }
 ],
 "metadata": {
  "kernelspec": {
   "display_name": "Python 3",
   "language": "python",
   "name": "python3"
  },
  "language_info": {
   "codemirror_mode": {
    "name": "ipython",
    "version": 3
   },
   "file_extension": ".py",
   "mimetype": "text/x-python",
   "name": "python",
   "nbconvert_exporter": "python",
   "pygments_lexer": "ipython3",
   "version": "3.7.3"
  }
 },
 "nbformat": 4,
 "nbformat_minor": 2
}
